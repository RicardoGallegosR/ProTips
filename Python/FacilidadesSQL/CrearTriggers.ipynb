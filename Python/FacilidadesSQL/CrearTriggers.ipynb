{
 "cells": [
  {
   "cell_type": "code",
   "execution_count": null,
   "metadata": {},
   "outputs": [],
   "source": [
    "def CONSULTA(schema:str, table:str,Operador:str)->None:\n",
    "    print(f\"\"\"\n",
    "GO\n",
    "CREATE TRIGGER {schema}.trg_{Operador}Log_{schema}_{table}\n",
    "ON {schema}.{table}\n",
    "AFTER {Operador}\n",
    "AS\n",
    "BEGIN\n",
    "    DECLARE @RowCount_ INT = @@ROWCOUNT;\n",
    "    DECLARE @UserName NVARCHAR(128) = SYSTEM_USER;\n",
    "    DECLARE @ActionTypeId TINYINT;\n",
    "    SELECT @ActionTypeId = ActionTypeId FROM ADMINISTRADOR.TipoAccion WHERE ActionType = '{Operador}';\n",
    "    INSERT INTO ADMINISTRADOR.RowChangeLog (ActionTypeId, TableName, RowCount_, UserName)\n",
    "    VALUES (@ActionTypeId, '{table}', @RowCount_, @UserName);\n",
    "END;\n",
    "\"\"\")\n",
    "\n",
    "\n",
    "def create_trigger(esquema:str, tabla:str)->None:\n",
    "    CONSULTA(esquema,tabla,\"INSERT\")\n",
    "    CONSULTA(esquema,tabla,\"UPDATE\")\n",
    "    CONSULTA(esquema,tabla,\"DELETE\")\n",
    "\n",
    "def drop_trigger (esquema:str, tabla:str)->None:\n",
    "    print(f\"\"\"\n",
    "DROP TRIGGER  {esquema}.trg_INSERTLog_{esquema}_{tabla};\n",
    "DROP TRIGGER  {esquema}.trg_UPDATELog_{esquema}_{tabla};\n",
    "DROP TRIGGER  {esquema}.trg_DELETELog_{esquema}_{tabla};\n",
    "\"\"\")\n"
   ]
  },
  {
   "cell_type": "code",
   "execution_count": null,
   "metadata": {},
   "outputs": [],
   "source": [
    "drop_trigger(\"Activo\",\"Activos\")"
   ]
  },
  {
   "cell_type": "code",
   "execution_count": null,
   "metadata": {},
   "outputs": [],
   "source": [
    "create_trigger(\"Activo\",\"Activos\")"
   ]
  }
 ],
 "metadata": {
  "language_info": {
   "name": "python"
  }
 },
 "nbformat": 4,
 "nbformat_minor": 2
}
